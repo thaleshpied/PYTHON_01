{
 "cells": [
  {
   "cell_type": "code",
   "execution_count": null,
   "id": "2a46d011",
   "metadata": {
    "vscode": {
     "languageId": "plaintext"
    }
   },
   "outputs": [],
   "source": [
    "print(\"Hello world\")"
   ]
  },
  {
   "cell_type": "markdown",
   "id": "d5850509",
   "metadata": {},
   "source": [
    "Aprendendo Python"
   ]
  }
 ],
 "metadata": {
  "language_info": {
   "name": "python"
  }
 },
 "nbformat": 4,
 "nbformat_minor": 5
}
